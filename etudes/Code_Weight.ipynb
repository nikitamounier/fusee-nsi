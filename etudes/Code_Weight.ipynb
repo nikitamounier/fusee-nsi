{
  "cells": [
    {
      "cell_type": "markdown",
      "metadata": {
        "id": "4kBHLpDHnrRn"
      },
      "source": [
        "# Rocket motors: importing the files"
      ]
    },
    {
      "cell_type": "code",
      "execution_count": 13,
      "metadata": {
        "id": "6GKHfnI3SbYw"
      },
      "outputs": [],
      "source": [
        "import csv \n",
        "with open(\"RocketPy_Motors.csv\", \"r\") as rfile:\n",
        "  fdict = list(csv.DictReader(rfile, delimiter = \",\"))"
      ]
    },
    {
      "cell_type": "code",
      "execution_count": 14,
      "metadata": {
        "colab": {
          "base_uri": "https://localhost:8080/"
        },
        "id": "0P4LZW9wWWOa",
        "outputId": "f9119141-145b-4a86-ca0d-5d65b71c6b43"
      },
      "outputs": [
        {
          "name": "stdout",
          "output_type": "stream",
          "text": [
            "Il y a 22 cles disponibles.\n",
            "La clé numéro 1 est 'Manufacturer'\n",
            "La clé numéro 2 est 'CAR Designation'\n",
            "La clé numéro 3 est 'Common Name'\n",
            "La clé numéro 4 est 'Motor Type'\n",
            "La clé numéro 5 est 'Diameter'\n",
            "La clé numéro 6 est 'Length'\n",
            "La clé numéro 7 est 'Total Weight'\n",
            "La clé numéro 8 est 'Prop. Weight'\n",
            "La clé numéro 9 est 'Avg. Thrust'\n",
            "La clé numéro 10 est 'Initial Thrust'\n",
            "La clé numéro 11 est 'Max. Thrust'\n",
            "La clé numéro 12 est 'Total Impulse'\n",
            "La clé numéro 13 est 'Burn Time'\n",
            "La clé numéro 14 est 'Isp'\n",
            "La clé numéro 15 est 'Motor Case'\n",
            "La clé numéro 16 est 'Propellant'\n",
            "La clé numéro 17 est 'Cert. Org.'\n",
            "La clé numéro 18 est 'Cert. Date'\n",
            "La clé numéro 19 est 'Cert. Designation'\n",
            "La clé numéro 20 est 'Availability'\n",
            "La clé numéro 21 est 'HazMat Shipping'\n",
            "La clé numéro 22 est 'CSFM Approved'\n"
          ]
        }
      ],
      "source": [
        "#mise en evidence des cles\n",
        "\n",
        "cles = []\n",
        "for val in fdict[0].keys():\n",
        "  cles.append(val)\n",
        "\n",
        "print(f\"Il y a {len(cles)} cles disponibles.\")\n",
        "\n",
        "for i in range(len(cles)):\n",
        "  print(f\"La clé numéro {i+1} est '{cles[i]}'\")\n"
      ]
    },
    {
      "cell_type": "markdown",
      "metadata": {
        "id": "ACp7nSHFRfQ9"
      },
      "source": [
        "# Rocket motors: weight and impulsion\n"
      ]
    },
    {
      "cell_type": "markdown",
      "metadata": {
        "id": "muAV4mAhihKk"
      },
      "source": [
        "---\n",
        "Commençons a trier nos moteurs par ceux qui sont le plus écologiques... Comme par exemple, ceux qui sont **hybrides**.\n",
        "\n",
        "---"
      ]
    },
    {
      "cell_type": "code",
      "execution_count": 15,
      "metadata": {
        "colab": {
          "base_uri": "https://localhost:8080/"
        },
        "id": "BssrCtakHPwm",
        "outputId": "3c6a853d-43ff-4b42-e620-6e6e9bf40204"
      },
      "outputs": [
        {
          "name": "stdout",
          "output_type": "stream",
          "text": [
            "['J115']\n"
          ]
        }
      ],
      "source": [
        "fhybrid = [fusee[\"Common Name\"] for fusee in fdict if fusee[\"Motor Type\"] == \"hybrid\"]\n",
        "print(fhybrid)"
      ]
    },
    {
      "cell_type": "markdown",
      "metadata": {
        "id": "EvjEgNaeiZSp"
      },
      "source": [
        "---\n",
        "Le poids est un aspect important de la performance mais aussi du coût monétaire et environnemental de la fusée. Cherchons donc les moteurs avec le **plus petit poids**.\n",
        "\n",
        "---"
      ]
    },
    {
      "cell_type": "code",
      "execution_count": 16,
      "metadata": {
        "colab": {
          "base_uri": "https://localhost:8080/"
        },
        "id": "NQXZ5ME6JCUb",
        "outputId": "9a56b604-20f7-410f-abe2-c8dac760982d"
      },
      "outputs": [
        {
          "name": "stdout",
          "output_type": "stream",
          "text": [
            "[{'Common Name': 'J360', 'Total Weight': '709 g'}, {'Common Name': 'M3100', 'Total Weight': '5,018 g'}, {'Common Name': 'M2505', 'Total Weight': '6,250 g'}, {'Common Name': 'M1670', 'Total Weight': '5231.00 g'}, {'Common Name': 'M1540', 'Total Weight': '5,906 g'}, {'Common Name': 'M1400', 'Total Weight': '5,302 g'}, {'Common Name': 'M1300', 'Total Weight': '5,657 g'}, {'Common Name': 'J115', 'Total Weight': '1,282 g'}]\n"
          ]
        }
      ],
      "source": [
        "#creation d'un dictionnaire contenant les poids des moteurs. on utilise le nom fusee pour designer les moteurs dans le code\n",
        "fpoids = [{\"Common Name\": fusee[\"Common Name\"], \"Total Weight\": fusee[\"Total Weight\"]} for fusee in fdict]\n",
        "print(fpoids)"
      ]
    },
    {
      "cell_type": "markdown",
      "metadata": {
        "id": "o3qyS7Xy0uu0"
      },
      "source": [
        "\n",
        "Maintenant que nous avons tous les poids des fusées, nous pouvons les classer par ordre décroissant a travers un tri par selection, par exemple. "
      ]
    },
    {
      "cell_type": "markdown",
      "metadata": {
        "id": "42i7Tr5v4pde"
      },
      "source": [
        "Tout d'abord, il nous faut transformer le poids, qui est sous forme de caracteres, en numéros, pour qu'on le puisse trier.\n"
      ]
    },
    {
      "cell_type": "code",
      "execution_count": 17,
      "metadata": {
        "colab": {
          "base_uri": "https://localhost:8080/"
        },
        "id": "kCx1u53ZvPoi",
        "outputId": "122c2adc-84db-49a0-8e90-54a424e8a4be"
      },
      "outputs": [
        {
          "name": "stdout",
          "output_type": "stream",
          "text": [
            "Le code ASCII associé au numero/symbole 0 est 48\n",
            "Le code ASCII associé au numero/symbole 1 est 49\n",
            "Le code ASCII associé au numero/symbole 2 est 50\n",
            "Le code ASCII associé au numero/symbole 3 est 51\n",
            "Le code ASCII associé au numero/symbole 4 est 52\n",
            "Le code ASCII associé au numero/symbole 5 est 53\n",
            "Le code ASCII associé au numero/symbole 6 est 54\n",
            "Le code ASCII associé au numero/symbole 7 est 55\n",
            "Le code ASCII associé au numero/symbole 8 est 56\n",
            "Le code ASCII associé au numero/symbole 9 est 57\n",
            "Le code ASCII associé au numero/symbole . est 46\n",
            "5.601\n"
          ]
        }
      ],
      "source": [
        "#Ce petit programme releve les codes ASCII des numéros, qu'on aura besoin pour notre fonction str_en_num\n",
        "\n",
        "Lnum = [str(num) for num in range(10)]    #les codes ASCII ne marchent que pour des type string, d'ou la conversion en string du type des numéros\n",
        "Lnum.append(\".\")    #on rajoute le code ASCII du point pour que notre fonction inclut aussi les nombres décimaux\n",
        "ord_num = []\n",
        "\n",
        "for num in Lnum:\n",
        "  print(f\"Le code ASCII associé au numero/symbole {num} est {ord(num)}\") \n",
        "  ord_num.append(ord(num)) \n",
        "\n",
        "\n",
        "def str_en_num(mot):\n",
        "  \"\"\"prend en argument une chaîne de caracteres et renvoie l'équivalent numérique, en ne gardant que les chiffres et le point pour les nombre décimaux\"\"\"\n",
        "  mot2 = ''\n",
        "  for carac in mot:\n",
        "    if ord(carac) in ord_num:       #teste si le caractere est soit un numéro, soit un point (utilisé pour les chiffres décimaux), en utilisant le format ASCII\n",
        "      mot2 += carac                 #si cela est le cas, alors on fusionne ce caractere a un mot ne contenant que les chiffres et symboles\n",
        "  return float(mot2)                #on convertit ce mot en float a la fin du programme\n",
        "\n",
        "print(str_en_num(\"5.601! g\"))"
      ]
    },
    {
      "cell_type": "markdown",
      "metadata": {
        "id": "Eq3PGOcU5HFU"
      },
      "source": [
        "\n",
        "C'est fait!\n",
        "Commençons a trier nos données..."
      ]
    },
    {
      "cell_type": "code",
      "execution_count": 18,
      "metadata": {
        "id": "tRxrAKe909ky"
      },
      "outputs": [],
      "source": [
        "def tri_selection(dico, cle):\n",
        "  \"\"\"trie un dictionnaire en fonction d'une clé demandée, sachant que cette derniere contient des valeurs numériques\"\"\"\n",
        "  for i in range(0,len(dico)):\n",
        "    imin = i\n",
        "    for j in range(i+1,len(dico)):                                              #on commence a i pour augmenter en efficacité (a chaque tour le programme fera moins de comparaisons)\n",
        "      if str_en_num(dico[j][cle]) < str_en_num(dico[imin][cle]):\n",
        "        imin = j                                                                #on retrouve le minimum\n",
        "    dico.insert(i,dico[imin])                                                   #on l'insere a la position i, c'est a dire a la fin de la partie triée\n",
        "    del dico[imin+1]                                                            #on enleve le double, qui se retoruve maintenant un indice plus vers la droie car on a rajouté un element au dico\n",
        "\n",
        "  return dico"
      ]
    },
    {
      "cell_type": "code",
      "execution_count": 19,
      "metadata": {
        "colab": {
          "base_uri": "https://localhost:8080/"
        },
        "id": "jVqqAVA_tNdr",
        "outputId": "c256dc38-2aa2-438b-d486-c03df2662e00"
      },
      "outputs": [
        {
          "name": "stdout",
          "output_type": "stream",
          "text": [
            "{'Common Name': 'J360', 'Total Weight': '709 g'}\n",
            "{'Common Name': 'J115', 'Total Weight': '1,282 g'}\n",
            "{'Common Name': 'M3100', 'Total Weight': '5,018 g'}\n",
            "{'Common Name': 'M1670', 'Total Weight': '5231.00 g'}\n",
            "{'Common Name': 'M1400', 'Total Weight': '5,302 g'}\n",
            "{'Common Name': 'M1300', 'Total Weight': '5,657 g'}\n",
            "{'Common Name': 'M1540', 'Total Weight': '5,906 g'}\n",
            "{'Common Name': 'M2505', 'Total Weight': '6,250 g'}\n"
          ]
        }
      ],
      "source": [
        "fpoids_sorted = tri_selection(fpoids, \"Total Weight\")\n",
        "for dico in fpoids_sorted:\n",
        "  print(dico)"
      ]
    },
    {
      "cell_type": "code",
      "execution_count": 20,
      "metadata": {
        "colab": {
          "base_uri": "https://localhost:8080/"
        },
        "id": "k6St6XWnG0ok",
        "outputId": "606f2bb0-632f-4b56-d054-5d70fe887e8d"
      },
      "outputs": [
        {
          "name": "stdout",
          "output_type": "stream",
          "text": [
            "Le moteur le plus lourd est le moteur M2505, avec un poids total de 6,250 g.\n",
            "D'autre part, les deux moteurs les plus lourds sont: le moteur J360, avec un poids total de 709 g\n",
            "Enfin, le poids du moteur hybride J115 vaut 1,282 g.\n"
          ]
        }
      ],
      "source": [
        "print(f\"Le moteur le plus lourd est le moteur {fpoids_sorted[-1]['Common Name']}, avec un poids total de {fpoids_sorted[-1]['Total Weight']}.\")\n",
        "print(f\"D'autre part, les deux moteurs les plus lourds sont: le moteur {fpoids_sorted[0]['Common Name']}, avec un poids total de {fpoids_sorted[0]['Total Weight']}\")\n",
        "print(f\"Enfin, le poids du moteur hybride {fhybrid[0]} vaut {fpoids_sorted[1]['Total Weight']}.\")"
      ]
    },
    {
      "cell_type": "markdown",
      "metadata": {
        "id": "nQKYwoZIqmyZ"
      },
      "source": [
        "---\n",
        "Ainsi, jusqu'a present, nous pouvons remarquer deux moteurs de fusées differents qui sont soit tres, soit tres peu ecologiques:\n",
        "\n",
        "* Le moteur J115, hybride et tres leger\n",
        "* Le moteur M2505, le plus lourd de tous\n",
        "\n",
        "---"
      ]
    },
    {
      "cell_type": "markdown",
      "metadata": {
        "id": "y9h_kmmHtXlR"
      },
      "source": [
        "---\n",
        "Intéressons nous maintenant a la **projection totale du moteur**\n",
        "\n",
        "---"
      ]
    },
    {
      "cell_type": "code",
      "execution_count": 21,
      "metadata": {
        "colab": {
          "base_uri": "https://localhost:8080/"
        },
        "id": "LZqVVPEMqKGY",
        "outputId": "f9692224-2c68-4728-cfad-902e716c1b19"
      },
      "outputs": [
        {
          "name": "stdout",
          "output_type": "stream",
          "text": [
            "[{'Common Name': 'J360', 'Total Impulse': '826.0 Ns'}, {'Common Name': 'M3100', 'Total Impulse': '6,117.8 Ns'}, {'Common Name': 'M2505', 'Total Impulse': '7,450.0 Ns'}, {'Common Name': 'M1670', 'Total Impulse': '6041.70 Ns'}, {'Common Name': 'M1540', 'Total Impulse': '6,819.4 Ns'}, {'Common Name': 'M1400', 'Total Impulse': '6,251.0 Ns'}, {'Common Name': 'M1300', 'Total Impulse': '6,738.2 Ns'}, {'Common Name': 'J115', 'Total Impulse': '673.7 Ns'}]\n"
          ]
        }
      ],
      "source": [
        "fimpulse = [{\"Common Name\": fusee[\"Common Name\"], \"Total Impulse\": fusee[\"Total Impulse\"]} for fusee in fdict]\n",
        "print(fimpulse)\n"
      ]
    },
    {
      "cell_type": "code",
      "execution_count": 22,
      "metadata": {
        "colab": {
          "base_uri": "https://localhost:8080/"
        },
        "id": "C7GvEItSqU5X",
        "outputId": "586b6ab8-e163-4d48-98c0-f748477a8c24"
      },
      "outputs": [
        {
          "name": "stdout",
          "output_type": "stream",
          "text": [
            "{'Common Name': 'J115', 'Total Impulse': '673.7 Ns'}\n",
            "{'Common Name': 'J360', 'Total Impulse': '826.0 Ns'}\n",
            "{'Common Name': 'M1670', 'Total Impulse': '6041.70 Ns'}\n",
            "{'Common Name': 'M3100', 'Total Impulse': '6,117.8 Ns'}\n",
            "{'Common Name': 'M1400', 'Total Impulse': '6,251.0 Ns'}\n",
            "{'Common Name': 'M1300', 'Total Impulse': '6,738.2 Ns'}\n",
            "{'Common Name': 'M1540', 'Total Impulse': '6,819.4 Ns'}\n",
            "{'Common Name': 'M2505', 'Total Impulse': '7,450.0 Ns'}\n"
          ]
        }
      ],
      "source": [
        "fimpulse_sorted = tri_selection(fimpulse, \"Total Impulse\")\n",
        "for dico in fimpulse_sorted:\n",
        "  print(dico)"
      ]
    },
    {
      "cell_type": "markdown",
      "metadata": {
        "id": "rxoFsjN2trek"
      },
      "source": [
        "---\n",
        "Nous pouvons remarquer que les moteurs avec la plus grande propulsion sont  aussi ceux avec la plus grande masse. Il serait donc intéressant de représenter l'impulsion totale d'un moteur en fonction de son poids!\n",
        "\n",
        "---"
      ]
    },
    {
      "cell_type": "markdown",
      "metadata": {
        "id": "NkP0h0OPGJPX"
      },
      "source": [
        "Tout d'abord, il nous faut que les valeurs du poids soient triées, et que celles de l'impulsion correspondent au même moteur. "
      ]
    },
    {
      "cell_type": "code",
      "execution_count": 23,
      "metadata": {
        "colab": {
          "base_uri": "https://localhost:8080/"
        },
        "id": "RqFDyI42ENDV",
        "outputId": "1092904b-5b64-4f0f-c3fe-6b448e9d2df1"
      },
      "outputs": [
        {
          "name": "stdout",
          "output_type": "stream",
          "text": [
            "[{'Common Name': 'J360', 'Total Weight': '709 g', 'Total Impulse': '826.0 Ns'}, {'Common Name': 'J115', 'Total Weight': '1,282 g', 'Total Impulse': '673.7 Ns'}, {'Common Name': 'M3100', 'Total Weight': '5,018 g', 'Total Impulse': '6,117.8 Ns'}, {'Common Name': 'M1670', 'Total Weight': '5231.00 g', 'Total Impulse': '6041.70 Ns'}, {'Common Name': 'M1400', 'Total Weight': '5,302 g', 'Total Impulse': '6,251.0 Ns'}, {'Common Name': 'M1300', 'Total Weight': '5,657 g', 'Total Impulse': '6,738.2 Ns'}, {'Common Name': 'M1540', 'Total Weight': '5,906 g', 'Total Impulse': '6,819.4 Ns'}, {'Common Name': 'M2505', 'Total Weight': '6,250 g', 'Total Impulse': '7,450.0 Ns'}]\n"
          ]
        }
      ],
      "source": [
        "p_i_moteur = [{\"Common Name\": fuseepoids[\"Common Name\"], \"Total Weight\": fuseepoids[\"Total Weight\"], \"Total Impulse\": fuseeimpulse[\"Total Impulse\"]}\n",
        "                        for fuseepoids in fpoids_sorted for fuseeimpulse in fimpulse if fuseepoids[\"Common Name\"] == fuseeimpulse[\"Common Name\"]]\n",
        "#on cree un dictionnaire contenant les moteurs triés par l'ordre croissant du poids et contenant aussi l'impulsion totale respective a chaque moteur\n",
        "\n",
        "\n",
        "print(p_i_moteur)"
      ]
    },
    {
      "cell_type": "markdown",
      "metadata": {
        "id": "ZHhCLzUtJja4"
      },
      "source": [
        "Maintenant, nous pouvons representer le poids et l'impulsion de moteurs sans souci de valeurs. "
      ]
    },
    {
      "cell_type": "code",
      "execution_count": 24,
      "metadata": {
        "colab": {
          "base_uri": "https://localhost:8080/",
          "height": 542
        },
        "id": "QhcYlVp4DHle",
        "outputId": "a483904f-4190-4d91-8ccd-0c097d8f2d24"
      },
      "outputs": [
        {
          "ename": "ImportError",
          "evalue": "Plotly express requires pandas to be installed.",
          "output_type": "error",
          "traceback": [
            "\u001b[0;31m---------------------------------------------------------------------------\u001b[0m",
            "\u001b[0;31mImportError\u001b[0m                               Traceback (most recent call last)",
            "\u001b[1;32m/Users/nikitamounier/Desktop/fusee-nsi/etudes/Code_Weight.ipynb Cell 24'\u001b[0m in \u001b[0;36m<cell line: 1>\u001b[0;34m()\u001b[0m\n\u001b[0;32m----> <a href='vscode-notebook-cell:/Users/nikitamounier/Desktop/fusee-nsi/etudes/Code_Weight.ipynb#ch0000024?line=0'>1</a>\u001b[0m \u001b[39mimport\u001b[39;00m \u001b[39mplotly\u001b[39;00m\u001b[39m.\u001b[39;00m\u001b[39mexpress\u001b[39;00m \u001b[39mas\u001b[39;00m \u001b[39mpx\u001b[39;00m\n\u001b[1;32m      <a href='vscode-notebook-cell:/Users/nikitamounier/Desktop/fusee-nsi/etudes/Code_Weight.ipynb#ch0000024?line=2'>3</a>\u001b[0m poidsmoteur \u001b[39m=\u001b[39m [str_en_num(fusee[\u001b[39m\"\u001b[39m\u001b[39mTotal Weight\u001b[39m\u001b[39m\"\u001b[39m]) \u001b[39mfor\u001b[39;00m fusee \u001b[39min\u001b[39;00m p_i_moteur]\n\u001b[1;32m      <a href='vscode-notebook-cell:/Users/nikitamounier/Desktop/fusee-nsi/etudes/Code_Weight.ipynb#ch0000024?line=3'>4</a>\u001b[0m impulsionmoteur \u001b[39m=\u001b[39m [str_en_num(fusee[\u001b[39m\"\u001b[39m\u001b[39mTotal Impulse\u001b[39m\u001b[39m\"\u001b[39m]) \u001b[39mfor\u001b[39;00m fusee \u001b[39min\u001b[39;00m p_i_moteur]\n",
            "File \u001b[0;32m/opt/homebrew/lib/python3.9/site-packages/plotly/express/__init__.py:10\u001b[0m, in \u001b[0;36m<module>\u001b[0;34m\u001b[0m\n\u001b[1;32m      <a href='file:///opt/homebrew/lib/python3.9/site-packages/plotly/express/__init__.py?line=7'>8</a>\u001b[0m pd \u001b[39m=\u001b[39m optional_imports\u001b[39m.\u001b[39mget_module(\u001b[39m\"\u001b[39m\u001b[39mpandas\u001b[39m\u001b[39m\"\u001b[39m)\n\u001b[1;32m      <a href='file:///opt/homebrew/lib/python3.9/site-packages/plotly/express/__init__.py?line=8'>9</a>\u001b[0m \u001b[39mif\u001b[39;00m pd \u001b[39mis\u001b[39;00m \u001b[39mNone\u001b[39;00m:\n\u001b[0;32m---> <a href='file:///opt/homebrew/lib/python3.9/site-packages/plotly/express/__init__.py?line=9'>10</a>\u001b[0m     \u001b[39mraise\u001b[39;00m \u001b[39mImportError\u001b[39;00m(\n\u001b[1;32m     <a href='file:///opt/homebrew/lib/python3.9/site-packages/plotly/express/__init__.py?line=10'>11</a>\u001b[0m         \u001b[39m\"\"\"\\\u001b[39;00m\n\u001b[1;32m     <a href='file:///opt/homebrew/lib/python3.9/site-packages/plotly/express/__init__.py?line=11'>12</a>\u001b[0m \u001b[39mPlotly express requires pandas to be installed.\"\"\"\u001b[39;00m\n\u001b[1;32m     <a href='file:///opt/homebrew/lib/python3.9/site-packages/plotly/express/__init__.py?line=12'>13</a>\u001b[0m     )\n\u001b[1;32m     <a href='file:///opt/homebrew/lib/python3.9/site-packages/plotly/express/__init__.py?line=14'>15</a>\u001b[0m \u001b[39mfrom\u001b[39;00m \u001b[39m.\u001b[39;00m\u001b[39m_imshow\u001b[39;00m \u001b[39mimport\u001b[39;00m imshow\n\u001b[1;32m     <a href='file:///opt/homebrew/lib/python3.9/site-packages/plotly/express/__init__.py?line=15'>16</a>\u001b[0m \u001b[39mfrom\u001b[39;00m \u001b[39m.\u001b[39;00m\u001b[39m_chart_types\u001b[39;00m \u001b[39mimport\u001b[39;00m (  \u001b[39m# noqa: F401\u001b[39;00m\n\u001b[1;32m     <a href='file:///opt/homebrew/lib/python3.9/site-packages/plotly/express/__init__.py?line=16'>17</a>\u001b[0m     scatter,\n\u001b[1;32m     <a href='file:///opt/homebrew/lib/python3.9/site-packages/plotly/express/__init__.py?line=17'>18</a>\u001b[0m     scatter_3d,\n\u001b[0;32m   (...)\u001b[0m\n\u001b[1;32m     <a href='file:///opt/homebrew/lib/python3.9/site-packages/plotly/express/__init__.py?line=50'>51</a>\u001b[0m     density_mapbox,\n\u001b[1;32m     <a href='file:///opt/homebrew/lib/python3.9/site-packages/plotly/express/__init__.py?line=51'>52</a>\u001b[0m )\n",
            "\u001b[0;31mImportError\u001b[0m: Plotly express requires pandas to be installed."
          ]
        }
      ],
      "source": [
        "import plotly.express as px\n",
        "\n",
        "poidsmoteur = [str_en_num(fusee[\"Total Weight\"]) for fusee in p_i_moteur]\n",
        "impulsionmoteur = [str_en_num(fusee[\"Total Impulse\"]) for fusee in p_i_moteur]\n",
        "#création de listes contenant les valeurs du tableau\n",
        "\n",
        "\n",
        "fig = px.line(x=poidsmoteur, y=impulsionmoteur, title = \"Impulsion totale d'un moteur en fonction de son poids\", width = 500)\n",
        "fig.update_xaxes(title=\"Poids total du moteur (g)\")\n",
        "fig.update_yaxes(title=\"Impulsion totale du moteur (N)\")\n",
        "\n",
        "fig.show()"
      ]
    },
    {
      "cell_type": "markdown",
      "metadata": {
        "id": "P7otS0MQJ-Tu"
      },
      "source": [
        "Representation alternative avec le module plotly, tres similaire a matplotlib.pyplot:"
      ]
    },
    {
      "cell_type": "code",
      "execution_count": 25,
      "metadata": {
        "colab": {
          "base_uri": "https://localhost:8080/",
          "height": 542
        },
        "id": "b79DmrjDJq0G",
        "outputId": "2a5936b1-b87f-4ac0-90ef-340fdf41bdd8"
      },
      "outputs": [
        {
          "ename": "ImportError",
          "evalue": "Plotly express requires pandas to be installed.",
          "output_type": "error",
          "traceback": [
            "\u001b[0;31m---------------------------------------------------------------------------\u001b[0m",
            "\u001b[0;31mImportError\u001b[0m                               Traceback (most recent call last)",
            "\u001b[1;32m/Users/nikitamounier/Desktop/fusee-nsi/etudes/Code_Weight.ipynb Cell 26'\u001b[0m in \u001b[0;36m<cell line: 1>\u001b[0;34m()\u001b[0m\n\u001b[0;32m----> <a href='vscode-notebook-cell:/Users/nikitamounier/Desktop/fusee-nsi/etudes/Code_Weight.ipynb#ch0000026?line=0'>1</a>\u001b[0m \u001b[39mimport\u001b[39;00m \u001b[39mplotly\u001b[39;00m\u001b[39m.\u001b[39;00m\u001b[39mexpress\u001b[39;00m \u001b[39mas\u001b[39;00m \u001b[39mpx\u001b[39;00m\n\u001b[1;32m      <a href='vscode-notebook-cell:/Users/nikitamounier/Desktop/fusee-nsi/etudes/Code_Weight.ipynb#ch0000026?line=2'>3</a>\u001b[0m fig \u001b[39m=\u001b[39m px\u001b[39m.\u001b[39mline(x\u001b[39m=\u001b[39mpoidsmoteur, y\u001b[39m=\u001b[39mimpulsionmoteur, title\u001b[39m=\u001b[39m\u001b[39m\"\u001b[39m\u001b[39mImpulsion totale d\u001b[39m\u001b[39m'\u001b[39m\u001b[39mun moteur en fonction de son poids\u001b[39m\u001b[39m\"\u001b[39m,  width\u001b[39m=\u001b[39m\u001b[39m500\u001b[39m, )\n\u001b[1;32m      <a href='vscode-notebook-cell:/Users/nikitamounier/Desktop/fusee-nsi/etudes/Code_Weight.ipynb#ch0000026?line=3'>4</a>\u001b[0m fig\u001b[39m.\u001b[39mupdate_xaxes(title\u001b[39m=\u001b[39m\u001b[39m\"\u001b[39m\u001b[39mPoids total du moteur en g\u001b[39m\u001b[39m\"\u001b[39m)\n",
            "File \u001b[0;32m/opt/homebrew/lib/python3.9/site-packages/plotly/express/__init__.py:10\u001b[0m, in \u001b[0;36m<module>\u001b[0;34m\u001b[0m\n\u001b[1;32m      <a href='file:///opt/homebrew/lib/python3.9/site-packages/plotly/express/__init__.py?line=7'>8</a>\u001b[0m pd \u001b[39m=\u001b[39m optional_imports\u001b[39m.\u001b[39mget_module(\u001b[39m\"\u001b[39m\u001b[39mpandas\u001b[39m\u001b[39m\"\u001b[39m)\n\u001b[1;32m      <a href='file:///opt/homebrew/lib/python3.9/site-packages/plotly/express/__init__.py?line=8'>9</a>\u001b[0m \u001b[39mif\u001b[39;00m pd \u001b[39mis\u001b[39;00m \u001b[39mNone\u001b[39;00m:\n\u001b[0;32m---> <a href='file:///opt/homebrew/lib/python3.9/site-packages/plotly/express/__init__.py?line=9'>10</a>\u001b[0m     \u001b[39mraise\u001b[39;00m \u001b[39mImportError\u001b[39;00m(\n\u001b[1;32m     <a href='file:///opt/homebrew/lib/python3.9/site-packages/plotly/express/__init__.py?line=10'>11</a>\u001b[0m         \u001b[39m\"\"\"\\\u001b[39;00m\n\u001b[1;32m     <a href='file:///opt/homebrew/lib/python3.9/site-packages/plotly/express/__init__.py?line=11'>12</a>\u001b[0m \u001b[39mPlotly express requires pandas to be installed.\"\"\"\u001b[39;00m\n\u001b[1;32m     <a href='file:///opt/homebrew/lib/python3.9/site-packages/plotly/express/__init__.py?line=12'>13</a>\u001b[0m     )\n\u001b[1;32m     <a href='file:///opt/homebrew/lib/python3.9/site-packages/plotly/express/__init__.py?line=14'>15</a>\u001b[0m \u001b[39mfrom\u001b[39;00m \u001b[39m.\u001b[39;00m\u001b[39m_imshow\u001b[39;00m \u001b[39mimport\u001b[39;00m imshow\n\u001b[1;32m     <a href='file:///opt/homebrew/lib/python3.9/site-packages/plotly/express/__init__.py?line=15'>16</a>\u001b[0m \u001b[39mfrom\u001b[39;00m \u001b[39m.\u001b[39;00m\u001b[39m_chart_types\u001b[39;00m \u001b[39mimport\u001b[39;00m (  \u001b[39m# noqa: F401\u001b[39;00m\n\u001b[1;32m     <a href='file:///opt/homebrew/lib/python3.9/site-packages/plotly/express/__init__.py?line=16'>17</a>\u001b[0m     scatter,\n\u001b[1;32m     <a href='file:///opt/homebrew/lib/python3.9/site-packages/plotly/express/__init__.py?line=17'>18</a>\u001b[0m     scatter_3d,\n\u001b[0;32m   (...)\u001b[0m\n\u001b[1;32m     <a href='file:///opt/homebrew/lib/python3.9/site-packages/plotly/express/__init__.py?line=50'>51</a>\u001b[0m     density_mapbox,\n\u001b[1;32m     <a href='file:///opt/homebrew/lib/python3.9/site-packages/plotly/express/__init__.py?line=51'>52</a>\u001b[0m )\n",
            "\u001b[0;31mImportError\u001b[0m: Plotly express requires pandas to be installed."
          ]
        }
      ],
      "source": [
        "import plotly.express as px\n",
        "\n",
        "fig = px.line(x=poidsmoteur, y=impulsionmoteur, title=\"Impulsion totale d'un moteur en fonction de son poids\",  width=500, )\n",
        "fig.update_xaxes(title=\"Poids total du moteur en g\")\n",
        "fig.update_yaxes(title=\"Impulsion totale du moteur en Ns\")\n",
        "fig.show()"
      ]
    },
    {
      "cell_type": "markdown",
      "metadata": {
        "id": "Ze50tY7MJKbr"
      },
      "source": [
        "Comme nous le voyons, le poids et la propulsion son presque proportionnels; il est donc plus difficile d'obtenir des moteurs plus écologiques et moins coûteux qui soient tout de même efficaces en essayant de réduire le poids. Intéressons-nous a la fusée qui, avec le poids le plus petit, aurait une impulsion maximale. "
      ]
    },
    {
      "cell_type": "code",
      "execution_count": null,
      "metadata": {
        "id": "CNe6Nc5cduSM"
      },
      "outputs": [],
      "source": [
        "rapp_p_i = []\n",
        "\n",
        "#création d'un dictionnaire contenant les rapports des intensités par les poids\n",
        "\n",
        "for i in range(len(fdict)):\n",
        "  rapport = round(str_en_num(fdict[i][\"Total Impulse\"])  / str_en_num(fdict[i][\"Total Weight\"]), 5) #on divise l'impulsion par le poids; plus le rapport sera elevé, plus l'impulsion est grande pour un poids plus petit, et donc plus le moteur sera économique\n",
        "  dico = {\"Common Name\": fdict[i][\"Common Name\"], \"Rapport Impulsion-Poids\": rapport}\n",
        "  rapp_p_i.append(dico)\n"
      ]
    },
    {
      "cell_type": "code",
      "execution_count": null,
      "metadata": {
        "colab": {
          "base_uri": "https://localhost:8080/"
        },
        "id": "37bIiYELJrWt",
        "outputId": "bd215ebe-98eb-4cb6-afd4-95e55e0c004c"
      },
      "outputs": [
        {
          "name": "stdout",
          "output_type": "stream",
          "text": [
            "Le moteur le plus écologique et efficace est le moteur M3100, avec un rapport entre son impulsion et son poids de 1.21917.\n",
            "Le moteur le moins écologique et efficace est le moteur J115, avec une différence entre son impulsion et son poids de 0.52551.\n"
          ]
        }
      ],
      "source": [
        "#manipulation des donnés\n",
        "rmax = 0\n",
        "moteurmax = \"\"\n",
        "rmin = rapp_p_i[0][\"Rapport Impulsion-Poids\"]\n",
        "moteurmin = \"\"\n",
        "\n",
        "for dico in rapp_p_i:\n",
        "  rapport = dico[\"Rapport Impulsion-Poids\"]\n",
        "  nom_moteur = dico[\"Common Name\"]\n",
        "  \n",
        "  if rapport > rmax :                     #recherche d'un maximum\n",
        "    rmax = rapport                        #on associe le nouveau maximum a notre variable\n",
        "    moteurmax = nom_moteur                #on retient le nom du moteur avec la difference la plus grande\n",
        "  elif rapport == rmax:\n",
        "    moteurmax +=\", \"+nom_moteur           #s'il y a plusieurs moteurs avec la même différence, alors on retient les deux\n",
        "  \n",
        "  if rapport < rmin : \n",
        "    rmin = rapport\n",
        "    moteurmin = nom_moteur\n",
        "  elif rapport == rmin:         #s'il y a plusieurs moteurs avec la même différence, alors on retient les deux\n",
        "    if dico == rapp_p_i[0]:     #or, comme on a choisi la premiere différence comme exemple, alors inévitablement cette églité sera vraie pour le premier moteur. \n",
        "      moteurmin = nom_moteur    #il nous faut donc nous assurer que pour ce cas particulier, nous ne 'rajoutons' pas un moteur\n",
        "      continue                                                                  \n",
        "    moteurmin +=\" \"+nom_moteur  #ajout potentiel du deuxieme moteur avec la meme valeur du rapport\n",
        "\n",
        "\n",
        "print(f\"Le moteur le plus écologique et efficace est le moteur {moteurmax}, avec un rapport entre son impulsion et son poids de {rmax}.\")\n",
        "print(f\"Le moteur le moins écologique et efficace est le moteur {moteurmin}, avec une différence entre son impulsion et son poids de {rmin}.\")\n"
      ]
    },
    {
      "cell_type": "code",
      "execution_count": null,
      "metadata": {
        "colab": {
          "base_uri": "https://localhost:8080/"
        },
        "id": "N5cgI3a3jxI3",
        "outputId": "ccd1ad6e-c8fa-4baa-d3da-5f69483d9e78"
      },
      "outputs": [
        {
          "name": "stdout",
          "output_type": "stream",
          "text": [
            "OrderedDict([('Manufacturer', 'Cesaroni Technology'), ('CAR Designation', '6118M3100-P'), ('Common Name', 'M3100'), ('Motor Type', 'reload'), ('Diameter', '75 mm'), ('Length', '757 mm'), ('Total Weight', '5,018 g'), ('Prop. Weight', '2,903 g'), ('Avg. Thrust', '3,075.0 N'), ('Initial Thrust', '3,306.8 N'), ('Max. Thrust', '3,709.2 N'), ('Total Impulse', '6,117.8 Ns'), ('Burn Time', '2.0 s'), ('Isp', '215 s'), ('Motor Case', 'Pro75-5G'), ('Propellant', 'White Thunder'), ('Cert. Org.', 'CAR'), ('Cert. Date', 'October 24, 2009'), ('Cert. Designation', ''), ('Availability', 'regular'), ('HazMat Shipping', 'HazMat'), ('CSFM Approved', 'approved')])\n"
          ]
        }
      ],
      "source": [
        "for dico in fdict:\n",
        "  if dico[\"Common Name\"] == \"M3100\":\n",
        "    print(dico)"
      ]
    },
    {
      "cell_type": "markdown",
      "metadata": {
        "id": "A54YUI5kkjcB"
      },
      "source": [
        "Ainsi, nous pouvons retenir trois moteurs:\n",
        "\n",
        "*   Le moteur **J115**; hybride et léger, il est donc le plus écologique et utlise un minimum de ressources naturelles. Or, avec le dernier code, on remarque qu'il est le moins performant; d'ici la difficulté de créer des moteurs moins dangereux pour l'environnement qui aillent le plus loin possible.\n",
        "*   Le moteur **M2505**; le plus lourd, mais comme on a remarqué que plus le moteur est lourd, plus son implusion est grande, il est le moteur le plus efficace de tous.\n",
        "*   Le moteur **M3100**, un entre-deux; même s'il n'est ni hybride ni léger, il a une impulsion maximale pour un poids minimal. Il est donc a la fois efficace et économe. \n"
      ]
    }
  ],
  "metadata": {
    "colab": {
      "collapsed_sections": [],
      "name": "Code_Weight.ipynb",
      "provenance": []
    },
    "kernelspec": {
      "display_name": "Python 3",
      "name": "python3"
    },
    "language_info": {
      "codemirror_mode": {
        "name": "ipython",
        "version": 3
      },
      "file_extension": ".py",
      "mimetype": "text/x-python",
      "name": "python",
      "nbconvert_exporter": "python",
      "pygments_lexer": "ipython3",
      "version": "3.9.12"
    }
  },
  "nbformat": 4,
  "nbformat_minor": 0
}
