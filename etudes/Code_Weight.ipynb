{
  "cells": [
    {
      "cell_type": "markdown",
      "metadata": {
        "id": "4kBHLpDHnrRn"
      },
      "source": [
        "# Rocket motors: importing the files"
      ]
    },
    {
      "cell_type": "code",
      "execution_count": 32,
      "metadata": {},
      "outputs": [
        {
          "name": "stdout",
          "output_type": "stream",
          "text": [
            "fish: Unknown command: pip\n",
            "fish: \n",
            "pip install plotly\n",
            "^\n"
          ]
        }
      ],
      "source": [
        "!pip install plotly"
      ]
    },
    {
      "cell_type": "code",
      "execution_count": 33,
      "metadata": {
        "id": "6GKHfnI3SbYw"
      },
      "outputs": [],
      "source": [
        "import csv \n",
        "with open(\"RocketPy_Motors.csv\", \"r\") as rfile:\n",
        "  fdict = list(csv.DictReader(rfile, delimiter = \",\"))"
      ]
    },
    {
      "cell_type": "code",
      "execution_count": 34,
      "metadata": {
        "colab": {
          "base_uri": "https://localhost:8080/"
        },
        "id": "0P4LZW9wWWOa",
        "outputId": "784fa26e-bb1b-4876-d4c5-067b4b198293"
      },
      "outputs": [
        {
          "name": "stdout",
          "output_type": "stream",
          "text": [
            "Il y a 22 cles disponibles.\n",
            "La clé numéro 1 est 'Manufacturer'\n",
            "La clé numéro 2 est 'CAR Designation'\n",
            "La clé numéro 3 est 'Common Name'\n",
            "La clé numéro 4 est 'Motor Type'\n",
            "La clé numéro 5 est 'Diameter'\n",
            "La clé numéro 6 est 'Length'\n",
            "La clé numéro 7 est 'Total Weight'\n",
            "La clé numéro 8 est 'Prop. Weight'\n",
            "La clé numéro 9 est 'Avg. Thrust'\n",
            "La clé numéro 10 est 'Initial Thrust'\n",
            "La clé numéro 11 est 'Max. Thrust'\n",
            "La clé numéro 12 est 'Total Impulse'\n",
            "La clé numéro 13 est 'Burn Time'\n",
            "La clé numéro 14 est 'Isp'\n",
            "La clé numéro 15 est 'Motor Case'\n",
            "La clé numéro 16 est 'Propellant'\n",
            "La clé numéro 17 est 'Cert. Org.'\n",
            "La clé numéro 18 est 'Cert. Date'\n",
            "La clé numéro 19 est 'Cert. Designation'\n",
            "La clé numéro 20 est 'Availability'\n",
            "La clé numéro 21 est 'HazMat Shipping'\n",
            "La clé numéro 22 est 'CSFM Approved'\n"
          ]
        }
      ],
      "source": [
        "#mise en evidence des cles\n",
        "\n",
        "cles = []\n",
        "for val in fdict[0].keys():\n",
        "  cles.append(val)\n",
        "\n",
        "print(f\"Il y a {len(cles)} cles disponibles.\")\n",
        "\n",
        "for i in range(len(cles)):\n",
        "  print(f\"La clé numéro {i+1} est '{cles[i]}'\")\n"
      ]
    },
    {
      "cell_type": "markdown",
      "metadata": {
        "id": "ACp7nSHFRfQ9"
      },
      "source": [
        "# Rocket motors: weight and impulsion\n"
      ]
    },
    {
      "cell_type": "markdown",
      "metadata": {
        "id": "muAV4mAhihKk"
      },
      "source": [
        "---\n",
        "Commençons a trier nos moteurs par ceux qui sont le plus écologiques... Comme par exemple, ceux qui sont **hybrides**.\n",
        "\n",
        "---"
      ]
    },
    {
      "cell_type": "code",
      "execution_count": 35,
      "metadata": {
        "colab": {
          "base_uri": "https://localhost:8080/"
        },
        "id": "BssrCtakHPwm",
        "outputId": "149fa8aa-9439-421f-9b0d-f830516f77e5"
      },
      "outputs": [
        {
          "name": "stdout",
          "output_type": "stream",
          "text": [
            "['J115']\n"
          ]
        }
      ],
      "source": [
        "fhybrid = [fusee[\"Common Name\"] for fusee in fdict if fusee[\"Motor Type\"] == \"hybrid\"]\n",
        "print(fhybrid)"
      ]
    },
    {
      "cell_type": "markdown",
      "metadata": {
        "id": "EvjEgNaeiZSp"
      },
      "source": [
        "---\n",
        "Le poids est un aspect important de la performance mais aussi du coût monétaire et environnemental de la fusée. Cherchons donc les moteurs avec le **plus petit poids**.\n",
        "\n",
        "---"
      ]
    },
    {
      "cell_type": "code",
      "execution_count": 36,
      "metadata": {
        "colab": {
          "base_uri": "https://localhost:8080/"
        },
        "id": "NQXZ5ME6JCUb",
        "outputId": "b7d3d90c-6c0e-4a6f-b53b-11d6204a43f4"
      },
      "outputs": [
        {
          "name": "stdout",
          "output_type": "stream",
          "text": [
            "[{'Common Name': 'J360', 'Total Weight': '709 g'}, {'Common Name': 'M3100', 'Total Weight': '5,018 g'}, {'Common Name': 'M2505', 'Total Weight': '6,250 g'}, {'Common Name': 'M1670', 'Total Weight': '5231.00 g'}, {'Common Name': 'M1540', 'Total Weight': '5,906 g'}, {'Common Name': 'M1400', 'Total Weight': '5,302 g'}, {'Common Name': 'M1300', 'Total Weight': '5,657 g'}, {'Common Name': 'J115', 'Total Weight': '1,282 g'}]\n"
          ]
        }
      ],
      "source": [
        "#creation d'un dictionnaire contenant les poids des moteurs. on utilise le nom fusee pour designer les moteurs dans le code\n",
        "fpoids = [{\"Common Name\": fusee[\"Common Name\"], \"Total Weight\": fusee[\"Total Weight\"]} for fusee in fdict]\n",
        "print(fpoids)"
      ]
    },
    {
      "cell_type": "markdown",
      "metadata": {
        "id": "o3qyS7Xy0uu0"
      },
      "source": [
        "\n",
        "Maintenant que nous avons tous les poids des fusées, nous pouvons les classer par ordre décroissant a travers un tri par selection, par exemple. "
      ]
    },
    {
      "cell_type": "markdown",
      "metadata": {
        "id": "42i7Tr5v4pde"
      },
      "source": [
        "Tout d'abord, il nous faut transformer le poids, qui est sous forme de caracteres, en numéros, pour qu'on le puisse trier.\n"
      ]
    },
    {
      "cell_type": "code",
      "execution_count": 37,
      "metadata": {
        "colab": {
          "base_uri": "https://localhost:8080/"
        },
        "id": "kCx1u53ZvPoi",
        "outputId": "32ffe322-ec1d-4f5a-c88e-8f4b7d926a86"
      },
      "outputs": [
        {
          "name": "stdout",
          "output_type": "stream",
          "text": [
            "Le code ASCII associé au numero/symbole 0 est 48\n",
            "Le code ASCII associé au numero/symbole 1 est 49\n",
            "Le code ASCII associé au numero/symbole 2 est 50\n",
            "Le code ASCII associé au numero/symbole 3 est 51\n",
            "Le code ASCII associé au numero/symbole 4 est 52\n",
            "Le code ASCII associé au numero/symbole 5 est 53\n",
            "Le code ASCII associé au numero/symbole 6 est 54\n",
            "Le code ASCII associé au numero/symbole 7 est 55\n",
            "Le code ASCII associé au numero/symbole 8 est 56\n",
            "Le code ASCII associé au numero/symbole 9 est 57\n",
            "Le code ASCII associé au numero/symbole . est 46\n",
            "5.601\n"
          ]
        }
      ],
      "source": [
        "#Ce petit programme releve les codes ASCII des numéros, qu'on aura besoin pour notre fonction str_en_num\n",
        "\n",
        "Lnum = [str(num) for num in range(10)]    #les codes ASCII ne marchent que pour des type string, d'ou la conversion en string du type des numéros\n",
        "Lnum.append(\".\")    #on rajoute le code ASCII du point pour que notre fonction inclut aussi les nombres décimaux\n",
        "ord_num = []\n",
        "\n",
        "for num in Lnum:\n",
        "  print(f\"Le code ASCII associé au numero/symbole {num} est {ord(num)}\") \n",
        "  ord_num.append(ord(num)) \n",
        "\n",
        "\n",
        "def str_en_num(mot):\n",
        "  \"\"\"prend en argument une chaîne de caracteres et renvoie l'équivalent numérique, en ne gardant que les chiffres et le point pour les nombre décimaux\"\"\"\n",
        "  mot2 = ''\n",
        "  for carac in mot:\n",
        "    if ord(carac) in ord_num:       #teste si le caractere est soit un numéro, soit un point (utilisé pour les chiffres décimaux), en utilisant le format ASCII\n",
        "      mot2 += carac                 #si cela est le cas, alors on fusionne ce caractere a un mot ne contenant que les chiffres et symboles\n",
        "  return float(mot2)                #on convertit ce mot en float a la fin du programme\n",
        "\n",
        "print(str_en_num(\"5.601! g\"))"
      ]
    },
    {
      "cell_type": "markdown",
      "metadata": {
        "id": "Eq3PGOcU5HFU"
      },
      "source": [
        "\n",
        "C'est fait!\n",
        "Commençons a trier nos données..."
      ]
    },
    {
      "cell_type": "code",
      "execution_count": 38,
      "metadata": {
        "id": "tRxrAKe909ky"
      },
      "outputs": [],
      "source": [
        "def tri_selection(dico, cle):\n",
        "  \"\"\"trie un dictionnaire en fonction d'une clé demandée, sachant que cette derniere contient des valeurs numériques\"\"\"\n",
        "  for i in range(0,len(dico)):\n",
        "    imin = i\n",
        "    for j in range(i+1,len(dico)):                                              #on commence a i pour augmenter en efficacité (a chaque tour le programme fera moins de comparaisons)\n",
        "      if str_en_num(dico[j][cle]) < str_en_num(dico[imin][cle]):\n",
        "        imin = j                                                                #on retrouve le minimum\n",
        "    dico.insert(i,dico[imin])                                                   #on l'insere a la position i, c'est a dire a la fin de la partie triée\n",
        "    del dico[imin+1]                                                            #on enleve le double, qui se retoruve maintenant un indice plus vers la droie car on a rajouté un element au dico\n",
        "\n",
        "  return dico"
      ]
    },
    {
      "cell_type": "code",
      "execution_count": 39,
      "metadata": {
        "colab": {
          "base_uri": "https://localhost:8080/"
        },
        "id": "jVqqAVA_tNdr",
        "outputId": "fe3931ff-fb63-4d2b-aad2-cf1dd182c08d"
      },
      "outputs": [
        {
          "name": "stdout",
          "output_type": "stream",
          "text": [
            "{'Common Name': 'J360', 'Total Weight': '709 g'}\n",
            "{'Common Name': 'J115', 'Total Weight': '1,282 g'}\n",
            "{'Common Name': 'M3100', 'Total Weight': '5,018 g'}\n",
            "{'Common Name': 'M1670', 'Total Weight': '5231.00 g'}\n",
            "{'Common Name': 'M1400', 'Total Weight': '5,302 g'}\n",
            "{'Common Name': 'M1300', 'Total Weight': '5,657 g'}\n",
            "{'Common Name': 'M1540', 'Total Weight': '5,906 g'}\n",
            "{'Common Name': 'M2505', 'Total Weight': '6,250 g'}\n"
          ]
        }
      ],
      "source": [
        "fpoids_sorted = tri_selection(fpoids, \"Total Weight\")\n",
        "for dico in fpoids_sorted:\n",
        "  print(dico)"
      ]
    },
    {
      "cell_type": "code",
      "execution_count": 40,
      "metadata": {
        "colab": {
          "base_uri": "https://localhost:8080/"
        },
        "id": "k6St6XWnG0ok",
        "outputId": "71a09ea2-70fd-4874-f7ee-d06d23d7976b"
      },
      "outputs": [
        {
          "name": "stdout",
          "output_type": "stream",
          "text": [
            "Le moteur le plus lourd est le moteur M2505, avec un poids total de 6,250 g.\n",
            "D'autre part, les deux moteurs les plus lourds sont: le moteur J360, avec un poids total de 709 g\n",
            "Enfin, le poids du moteur hybride J115 vaut 1,282 g.\n"
          ]
        }
      ],
      "source": [
        "print(f\"Le moteur le plus lourd est le moteur {fpoids_sorted[-1]['Common Name']}, avec un poids total de {fpoids_sorted[-1]['Total Weight']}.\")\n",
        "print(f\"D'autre part, les deux moteurs les plus lourds sont: le moteur {fpoids_sorted[0]['Common Name']}, avec un poids total de {fpoids_sorted[0]['Total Weight']}\")\n",
        "print(f\"Enfin, le poids du moteur hybride {fhybrid[0]} vaut {fpoids_sorted[1]['Total Weight']}.\")"
      ]
    },
    {
      "cell_type": "markdown",
      "metadata": {
        "id": "nQKYwoZIqmyZ"
      },
      "source": [
        "---\n",
        "Ainsi, jusqu'a present, nous pouvons remarquer deux moteurs de fusées differents qui sont soit tres, soit tres peu ecologiques:\n",
        "\n",
        "* Le moteur J115, hybride et tres leger\n",
        "* Le moteur M2505, le plus lourd de tous\n",
        "\n",
        "---"
      ]
    },
    {
      "cell_type": "markdown",
      "metadata": {
        "id": "y9h_kmmHtXlR"
      },
      "source": [
        "---\n",
        "Intéressons nous maintenant a la **projection totale du moteur**\n",
        "\n",
        "---"
      ]
    },
    {
      "cell_type": "code",
      "execution_count": 41,
      "metadata": {
        "colab": {
          "base_uri": "https://localhost:8080/"
        },
        "id": "LZqVVPEMqKGY",
        "outputId": "ec2a072e-a2ae-47c7-ddd5-886e3aafaa86"
      },
      "outputs": [
        {
          "name": "stdout",
          "output_type": "stream",
          "text": [
            "[{'Common Name': 'J360', 'Total Impulse': '826.0 Ns'}, {'Common Name': 'M3100', 'Total Impulse': '6,117.8 Ns'}, {'Common Name': 'M2505', 'Total Impulse': '7,450.0 Ns'}, {'Common Name': 'M1670', 'Total Impulse': '6041.70 Ns'}, {'Common Name': 'M1540', 'Total Impulse': '6,819.4 Ns'}, {'Common Name': 'M1400', 'Total Impulse': '6,251.0 Ns'}, {'Common Name': 'M1300', 'Total Impulse': '6,738.2 Ns'}, {'Common Name': 'J115', 'Total Impulse': '673.7 Ns'}]\n"
          ]
        }
      ],
      "source": [
        "fimpulse = [{\"Common Name\": fusee[\"Common Name\"], \"Total Impulse\": fusee[\"Total Impulse\"]} for fusee in fdict]\n",
        "print(fimpulse)\n"
      ]
    },
    {
      "cell_type": "code",
      "execution_count": 42,
      "metadata": {
        "colab": {
          "base_uri": "https://localhost:8080/"
        },
        "id": "C7GvEItSqU5X",
        "outputId": "bd50721f-6fe0-4112-d184-a014ddbd6153"
      },
      "outputs": [
        {
          "name": "stdout",
          "output_type": "stream",
          "text": [
            "{'Common Name': 'J115', 'Total Impulse': '673.7 Ns'}\n",
            "{'Common Name': 'J360', 'Total Impulse': '826.0 Ns'}\n",
            "{'Common Name': 'M1670', 'Total Impulse': '6041.70 Ns'}\n",
            "{'Common Name': 'M3100', 'Total Impulse': '6,117.8 Ns'}\n",
            "{'Common Name': 'M1400', 'Total Impulse': '6,251.0 Ns'}\n",
            "{'Common Name': 'M1300', 'Total Impulse': '6,738.2 Ns'}\n",
            "{'Common Name': 'M1540', 'Total Impulse': '6,819.4 Ns'}\n",
            "{'Common Name': 'M2505', 'Total Impulse': '7,450.0 Ns'}\n"
          ]
        }
      ],
      "source": [
        "fimpulse_sorted = tri_selection(fimpulse, \"Total Impulse\")\n",
        "for dico in fimpulse_sorted:\n",
        "  print(dico)"
      ]
    },
    {
      "cell_type": "markdown",
      "metadata": {
        "id": "rxoFsjN2trek"
      },
      "source": [
        "---\n",
        "Nous pouvons remarquer que les moteurs avec la plus grande propulsion sont  aussi ceux avec la plus grande masse. Il serait donc intéressant de représenter l'impulsion totale d'un moteur en fonction de son poids!\n",
        "\n",
        "---"
      ]
    },
    {
      "cell_type": "markdown",
      "metadata": {
        "id": "NkP0h0OPGJPX"
      },
      "source": [
        "Tout d'abord, il nous faut que les valeurs du poids soient triées, et que celles de l'impulsion correspondent au même moteur. "
      ]
    },
    {
      "cell_type": "code",
      "execution_count": 43,
      "metadata": {
        "colab": {
          "base_uri": "https://localhost:8080/"
        },
        "id": "RqFDyI42ENDV",
        "outputId": "cf11b03e-cbc9-47c0-e9ba-4026277148ed"
      },
      "outputs": [
        {
          "name": "stdout",
          "output_type": "stream",
          "text": [
            "[{'Common Name': 'J360', 'Total Weight': '709 g', 'Total Impulse': '826.0 Ns'}, {'Common Name': 'J115', 'Total Weight': '1,282 g', 'Total Impulse': '673.7 Ns'}, {'Common Name': 'M3100', 'Total Weight': '5,018 g', 'Total Impulse': '6,117.8 Ns'}, {'Common Name': 'M1670', 'Total Weight': '5231.00 g', 'Total Impulse': '6041.70 Ns'}, {'Common Name': 'M1400', 'Total Weight': '5,302 g', 'Total Impulse': '6,251.0 Ns'}, {'Common Name': 'M1300', 'Total Weight': '5,657 g', 'Total Impulse': '6,738.2 Ns'}, {'Common Name': 'M1540', 'Total Weight': '5,906 g', 'Total Impulse': '6,819.4 Ns'}, {'Common Name': 'M2505', 'Total Weight': '6,250 g', 'Total Impulse': '7,450.0 Ns'}]\n"
          ]
        }
      ],
      "source": [
        "p_i_moteur = [{\"Common Name\": fuseepoids[\"Common Name\"], \"Total Weight\": fuseepoids[\"Total Weight\"], \"Total Impulse\": fuseeimpulse[\"Total Impulse\"]}\n",
        "                        for fuseepoids in fpoids_sorted for fuseeimpulse in fimpulse if fuseepoids[\"Common Name\"] == fuseeimpulse[\"Common Name\"]]\n",
        "#on cree un dictionnaire contenant les moteurs triés par l'ordre croissant du poids et contenant aussi l'impulsion totale respective a chaque moteur\n",
        "\n",
        "\n",
        "print(p_i_moteur)"
      ]
    },
    {
      "cell_type": "markdown",
      "metadata": {
        "id": "ZHhCLzUtJja4"
      },
      "source": [
        "Maintenant, nous pouvons representer le poids et l'impulsion de moteurs sans souci de valeurs. "
      ]
    },
    {
      "cell_type": "code",
      "execution_count": 44,
      "metadata": {
        "colab": {
          "base_uri": "https://localhost:8080/",
          "height": 542
        },
        "id": "QhcYlVp4DHle",
        "outputId": "b534e348-eca3-4a83-84e5-31c3f3cde3d2"
      },
      "outputs": [
        {
          "data": {
            "application/vnd.plotly.v1+json": {
              "config": {
                "plotlyServerURL": "https://plot.ly"
              },
              "data": [
                {
                  "hovertemplate": "x=%{x}<br>y=%{y}<extra></extra>",
                  "legendgroup": "",
                  "line": {
                    "color": "#636efa",
                    "dash": "solid"
                  },
                  "marker": {
                    "symbol": "circle"
                  },
                  "mode": "lines",
                  "name": "",
                  "orientation": "v",
                  "showlegend": false,
                  "type": "scatter",
                  "x": [
                    709,
                    1282,
                    5018,
                    5231,
                    5302,
                    5657,
                    5906,
                    6250
                  ],
                  "xaxis": "x",
                  "y": [
                    826,
                    673.7,
                    6117.8,
                    6041.7,
                    6251,
                    6738.2,
                    6819.4,
                    7450
                  ],
                  "yaxis": "y"
                }
              ],
              "layout": {
                "legend": {
                  "tracegroupgap": 0
                },
                "template": {
                  "data": {
                    "bar": [
                      {
                        "error_x": {
                          "color": "#2a3f5f"
                        },
                        "error_y": {
                          "color": "#2a3f5f"
                        },
                        "marker": {
                          "line": {
                            "color": "#E5ECF6",
                            "width": 0.5
                          },
                          "pattern": {
                            "fillmode": "overlay",
                            "size": 10,
                            "solidity": 0.2
                          }
                        },
                        "type": "bar"
                      }
                    ],
                    "barpolar": [
                      {
                        "marker": {
                          "line": {
                            "color": "#E5ECF6",
                            "width": 0.5
                          },
                          "pattern": {
                            "fillmode": "overlay",
                            "size": 10,
                            "solidity": 0.2
                          }
                        },
                        "type": "barpolar"
                      }
                    ],
                    "carpet": [
                      {
                        "aaxis": {
                          "endlinecolor": "#2a3f5f",
                          "gridcolor": "white",
                          "linecolor": "white",
                          "minorgridcolor": "white",
                          "startlinecolor": "#2a3f5f"
                        },
                        "baxis": {
                          "endlinecolor": "#2a3f5f",
                          "gridcolor": "white",
                          "linecolor": "white",
                          "minorgridcolor": "white",
                          "startlinecolor": "#2a3f5f"
                        },
                        "type": "carpet"
                      }
                    ],
                    "choropleth": [
                      {
                        "colorbar": {
                          "outlinewidth": 0,
                          "ticks": ""
                        },
                        "type": "choropleth"
                      }
                    ],
                    "contour": [
                      {
                        "colorbar": {
                          "outlinewidth": 0,
                          "ticks": ""
                        },
                        "colorscale": [
                          [
                            0,
                            "#0d0887"
                          ],
                          [
                            0.1111111111111111,
                            "#46039f"
                          ],
                          [
                            0.2222222222222222,
                            "#7201a8"
                          ],
                          [
                            0.3333333333333333,
                            "#9c179e"
                          ],
                          [
                            0.4444444444444444,
                            "#bd3786"
                          ],
                          [
                            0.5555555555555556,
                            "#d8576b"
                          ],
                          [
                            0.6666666666666666,
                            "#ed7953"
                          ],
                          [
                            0.7777777777777778,
                            "#fb9f3a"
                          ],
                          [
                            0.8888888888888888,
                            "#fdca26"
                          ],
                          [
                            1,
                            "#f0f921"
                          ]
                        ],
                        "type": "contour"
                      }
                    ],
                    "contourcarpet": [
                      {
                        "colorbar": {
                          "outlinewidth": 0,
                          "ticks": ""
                        },
                        "type": "contourcarpet"
                      }
                    ],
                    "heatmap": [
                      {
                        "colorbar": {
                          "outlinewidth": 0,
                          "ticks": ""
                        },
                        "colorscale": [
                          [
                            0,
                            "#0d0887"
                          ],
                          [
                            0.1111111111111111,
                            "#46039f"
                          ],
                          [
                            0.2222222222222222,
                            "#7201a8"
                          ],
                          [
                            0.3333333333333333,
                            "#9c179e"
                          ],
                          [
                            0.4444444444444444,
                            "#bd3786"
                          ],
                          [
                            0.5555555555555556,
                            "#d8576b"
                          ],
                          [
                            0.6666666666666666,
                            "#ed7953"
                          ],
                          [
                            0.7777777777777778,
                            "#fb9f3a"
                          ],
                          [
                            0.8888888888888888,
                            "#fdca26"
                          ],
                          [
                            1,
                            "#f0f921"
                          ]
                        ],
                        "type": "heatmap"
                      }
                    ],
                    "heatmapgl": [
                      {
                        "colorbar": {
                          "outlinewidth": 0,
                          "ticks": ""
                        },
                        "colorscale": [
                          [
                            0,
                            "#0d0887"
                          ],
                          [
                            0.1111111111111111,
                            "#46039f"
                          ],
                          [
                            0.2222222222222222,
                            "#7201a8"
                          ],
                          [
                            0.3333333333333333,
                            "#9c179e"
                          ],
                          [
                            0.4444444444444444,
                            "#bd3786"
                          ],
                          [
                            0.5555555555555556,
                            "#d8576b"
                          ],
                          [
                            0.6666666666666666,
                            "#ed7953"
                          ],
                          [
                            0.7777777777777778,
                            "#fb9f3a"
                          ],
                          [
                            0.8888888888888888,
                            "#fdca26"
                          ],
                          [
                            1,
                            "#f0f921"
                          ]
                        ],
                        "type": "heatmapgl"
                      }
                    ],
                    "histogram": [
                      {
                        "marker": {
                          "pattern": {
                            "fillmode": "overlay",
                            "size": 10,
                            "solidity": 0.2
                          }
                        },
                        "type": "histogram"
                      }
                    ],
                    "histogram2d": [
                      {
                        "colorbar": {
                          "outlinewidth": 0,
                          "ticks": ""
                        },
                        "colorscale": [
                          [
                            0,
                            "#0d0887"
                          ],
                          [
                            0.1111111111111111,
                            "#46039f"
                          ],
                          [
                            0.2222222222222222,
                            "#7201a8"
                          ],
                          [
                            0.3333333333333333,
                            "#9c179e"
                          ],
                          [
                            0.4444444444444444,
                            "#bd3786"
                          ],
                          [
                            0.5555555555555556,
                            "#d8576b"
                          ],
                          [
                            0.6666666666666666,
                            "#ed7953"
                          ],
                          [
                            0.7777777777777778,
                            "#fb9f3a"
                          ],
                          [
                            0.8888888888888888,
                            "#fdca26"
                          ],
                          [
                            1,
                            "#f0f921"
                          ]
                        ],
                        "type": "histogram2d"
                      }
                    ],
                    "histogram2dcontour": [
                      {
                        "colorbar": {
                          "outlinewidth": 0,
                          "ticks": ""
                        },
                        "colorscale": [
                          [
                            0,
                            "#0d0887"
                          ],
                          [
                            0.1111111111111111,
                            "#46039f"
                          ],
                          [
                            0.2222222222222222,
                            "#7201a8"
                          ],
                          [
                            0.3333333333333333,
                            "#9c179e"
                          ],
                          [
                            0.4444444444444444,
                            "#bd3786"
                          ],
                          [
                            0.5555555555555556,
                            "#d8576b"
                          ],
                          [
                            0.6666666666666666,
                            "#ed7953"
                          ],
                          [
                            0.7777777777777778,
                            "#fb9f3a"
                          ],
                          [
                            0.8888888888888888,
                            "#fdca26"
                          ],
                          [
                            1,
                            "#f0f921"
                          ]
                        ],
                        "type": "histogram2dcontour"
                      }
                    ],
                    "mesh3d": [
                      {
                        "colorbar": {
                          "outlinewidth": 0,
                          "ticks": ""
                        },
                        "type": "mesh3d"
                      }
                    ],
                    "parcoords": [
                      {
                        "line": {
                          "colorbar": {
                            "outlinewidth": 0,
                            "ticks": ""
                          }
                        },
                        "type": "parcoords"
                      }
                    ],
                    "pie": [
                      {
                        "automargin": true,
                        "type": "pie"
                      }
                    ],
                    "scatter": [
                      {
                        "fillpattern": {
                          "fillmode": "overlay",
                          "size": 10,
                          "solidity": 0.2
                        },
                        "type": "scatter"
                      }
                    ],
                    "scatter3d": [
                      {
                        "line": {
                          "colorbar": {
                            "outlinewidth": 0,
                            "ticks": ""
                          }
                        },
                        "marker": {
                          "colorbar": {
                            "outlinewidth": 0,
                            "ticks": ""
                          }
                        },
                        "type": "scatter3d"
                      }
                    ],
                    "scattercarpet": [
                      {
                        "marker": {
                          "colorbar": {
                            "outlinewidth": 0,
                            "ticks": ""
                          }
                        },
                        "type": "scattercarpet"
                      }
                    ],
                    "scattergeo": [
                      {
                        "marker": {
                          "colorbar": {
                            "outlinewidth": 0,
                            "ticks": ""
                          }
                        },
                        "type": "scattergeo"
                      }
                    ],
                    "scattergl": [
                      {
                        "marker": {
                          "colorbar": {
                            "outlinewidth": 0,
                            "ticks": ""
                          }
                        },
                        "type": "scattergl"
                      }
                    ],
                    "scattermapbox": [
                      {
                        "marker": {
                          "colorbar": {
                            "outlinewidth": 0,
                            "ticks": ""
                          }
                        },
                        "type": "scattermapbox"
                      }
                    ],
                    "scatterpolar": [
                      {
                        "marker": {
                          "colorbar": {
                            "outlinewidth": 0,
                            "ticks": ""
                          }
                        },
                        "type": "scatterpolar"
                      }
                    ],
                    "scatterpolargl": [
                      {
                        "marker": {
                          "colorbar": {
                            "outlinewidth": 0,
                            "ticks": ""
                          }
                        },
                        "type": "scatterpolargl"
                      }
                    ],
                    "scatterternary": [
                      {
                        "marker": {
                          "colorbar": {
                            "outlinewidth": 0,
                            "ticks": ""
                          }
                        },
                        "type": "scatterternary"
                      }
                    ],
                    "surface": [
                      {
                        "colorbar": {
                          "outlinewidth": 0,
                          "ticks": ""
                        },
                        "colorscale": [
                          [
                            0,
                            "#0d0887"
                          ],
                          [
                            0.1111111111111111,
                            "#46039f"
                          ],
                          [
                            0.2222222222222222,
                            "#7201a8"
                          ],
                          [
                            0.3333333333333333,
                            "#9c179e"
                          ],
                          [
                            0.4444444444444444,
                            "#bd3786"
                          ],
                          [
                            0.5555555555555556,
                            "#d8576b"
                          ],
                          [
                            0.6666666666666666,
                            "#ed7953"
                          ],
                          [
                            0.7777777777777778,
                            "#fb9f3a"
                          ],
                          [
                            0.8888888888888888,
                            "#fdca26"
                          ],
                          [
                            1,
                            "#f0f921"
                          ]
                        ],
                        "type": "surface"
                      }
                    ],
                    "table": [
                      {
                        "cells": {
                          "fill": {
                            "color": "#EBF0F8"
                          },
                          "line": {
                            "color": "white"
                          }
                        },
                        "header": {
                          "fill": {
                            "color": "#C8D4E3"
                          },
                          "line": {
                            "color": "white"
                          }
                        },
                        "type": "table"
                      }
                    ]
                  },
                  "layout": {
                    "annotationdefaults": {
                      "arrowcolor": "#2a3f5f",
                      "arrowhead": 0,
                      "arrowwidth": 1
                    },
                    "autotypenumbers": "strict",
                    "coloraxis": {
                      "colorbar": {
                        "outlinewidth": 0,
                        "ticks": ""
                      }
                    },
                    "colorscale": {
                      "diverging": [
                        [
                          0,
                          "#8e0152"
                        ],
                        [
                          0.1,
                          "#c51b7d"
                        ],
                        [
                          0.2,
                          "#de77ae"
                        ],
                        [
                          0.3,
                          "#f1b6da"
                        ],
                        [
                          0.4,
                          "#fde0ef"
                        ],
                        [
                          0.5,
                          "#f7f7f7"
                        ],
                        [
                          0.6,
                          "#e6f5d0"
                        ],
                        [
                          0.7,
                          "#b8e186"
                        ],
                        [
                          0.8,
                          "#7fbc41"
                        ],
                        [
                          0.9,
                          "#4d9221"
                        ],
                        [
                          1,
                          "#276419"
                        ]
                      ],
                      "sequential": [
                        [
                          0,
                          "#0d0887"
                        ],
                        [
                          0.1111111111111111,
                          "#46039f"
                        ],
                        [
                          0.2222222222222222,
                          "#7201a8"
                        ],
                        [
                          0.3333333333333333,
                          "#9c179e"
                        ],
                        [
                          0.4444444444444444,
                          "#bd3786"
                        ],
                        [
                          0.5555555555555556,
                          "#d8576b"
                        ],
                        [
                          0.6666666666666666,
                          "#ed7953"
                        ],
                        [
                          0.7777777777777778,
                          "#fb9f3a"
                        ],
                        [
                          0.8888888888888888,
                          "#fdca26"
                        ],
                        [
                          1,
                          "#f0f921"
                        ]
                      ],
                      "sequentialminus": [
                        [
                          0,
                          "#0d0887"
                        ],
                        [
                          0.1111111111111111,
                          "#46039f"
                        ],
                        [
                          0.2222222222222222,
                          "#7201a8"
                        ],
                        [
                          0.3333333333333333,
                          "#9c179e"
                        ],
                        [
                          0.4444444444444444,
                          "#bd3786"
                        ],
                        [
                          0.5555555555555556,
                          "#d8576b"
                        ],
                        [
                          0.6666666666666666,
                          "#ed7953"
                        ],
                        [
                          0.7777777777777778,
                          "#fb9f3a"
                        ],
                        [
                          0.8888888888888888,
                          "#fdca26"
                        ],
                        [
                          1,
                          "#f0f921"
                        ]
                      ]
                    },
                    "colorway": [
                      "#636efa",
                      "#EF553B",
                      "#00cc96",
                      "#ab63fa",
                      "#FFA15A",
                      "#19d3f3",
                      "#FF6692",
                      "#B6E880",
                      "#FF97FF",
                      "#FECB52"
                    ],
                    "font": {
                      "color": "#2a3f5f"
                    },
                    "geo": {
                      "bgcolor": "white",
                      "lakecolor": "white",
                      "landcolor": "#E5ECF6",
                      "showlakes": true,
                      "showland": true,
                      "subunitcolor": "white"
                    },
                    "hoverlabel": {
                      "align": "left"
                    },
                    "hovermode": "closest",
                    "mapbox": {
                      "style": "light"
                    },
                    "paper_bgcolor": "white",
                    "plot_bgcolor": "#E5ECF6",
                    "polar": {
                      "angularaxis": {
                        "gridcolor": "white",
                        "linecolor": "white",
                        "ticks": ""
                      },
                      "bgcolor": "#E5ECF6",
                      "radialaxis": {
                        "gridcolor": "white",
                        "linecolor": "white",
                        "ticks": ""
                      }
                    },
                    "scene": {
                      "xaxis": {
                        "backgroundcolor": "#E5ECF6",
                        "gridcolor": "white",
                        "gridwidth": 2,
                        "linecolor": "white",
                        "showbackground": true,
                        "ticks": "",
                        "zerolinecolor": "white"
                      },
                      "yaxis": {
                        "backgroundcolor": "#E5ECF6",
                        "gridcolor": "white",
                        "gridwidth": 2,
                        "linecolor": "white",
                        "showbackground": true,
                        "ticks": "",
                        "zerolinecolor": "white"
                      },
                      "zaxis": {
                        "backgroundcolor": "#E5ECF6",
                        "gridcolor": "white",
                        "gridwidth": 2,
                        "linecolor": "white",
                        "showbackground": true,
                        "ticks": "",
                        "zerolinecolor": "white"
                      }
                    },
                    "shapedefaults": {
                      "line": {
                        "color": "#2a3f5f"
                      }
                    },
                    "ternary": {
                      "aaxis": {
                        "gridcolor": "white",
                        "linecolor": "white",
                        "ticks": ""
                      },
                      "baxis": {
                        "gridcolor": "white",
                        "linecolor": "white",
                        "ticks": ""
                      },
                      "bgcolor": "#E5ECF6",
                      "caxis": {
                        "gridcolor": "white",
                        "linecolor": "white",
                        "ticks": ""
                      }
                    },
                    "title": {
                      "x": 0.05
                    },
                    "xaxis": {
                      "automargin": true,
                      "gridcolor": "white",
                      "linecolor": "white",
                      "ticks": "",
                      "title": {
                        "standoff": 15
                      },
                      "zerolinecolor": "white",
                      "zerolinewidth": 2
                    },
                    "yaxis": {
                      "automargin": true,
                      "gridcolor": "white",
                      "linecolor": "white",
                      "ticks": "",
                      "title": {
                        "standoff": 15
                      },
                      "zerolinecolor": "white",
                      "zerolinewidth": 2
                    }
                  }
                },
                "title": {
                  "text": "Impulsion totale d'un moteur en fonction de son poids"
                },
                "width": 500,
                "xaxis": {
                  "anchor": "y",
                  "domain": [
                    0,
                    1
                  ],
                  "title": {
                    "text": "Poids total du moteur (g)"
                  }
                },
                "yaxis": {
                  "anchor": "x",
                  "domain": [
                    0,
                    1
                  ],
                  "title": {
                    "text": "Impulsion totale du moteur (N)"
                  }
                }
              }
            }
          },
          "metadata": {},
          "output_type": "display_data"
        }
      ],
      "source": [
        "import plotly.express as px\n",
        "\n",
        "poidsmoteur = [str_en_num(fusee[\"Total Weight\"]) for fusee in p_i_moteur]\n",
        "impulsionmoteur = [str_en_num(fusee[\"Total Impulse\"]) for fusee in p_i_moteur]\n",
        "#création de listes contenant les valeurs du tableau\n",
        "\n",
        "\n",
        "fig = px.line(x=poidsmoteur, y=impulsionmoteur, title = \"Impulsion totale d'un moteur en fonction de son poids\", width = 500)\n",
        "fig.update_xaxes(title=\"Poids total du moteur (g)\")\n",
        "fig.update_yaxes(title=\"Impulsion totale du moteur (N)\")\n",
        "\n",
        "fig.show()"
      ]
    },
    {
      "cell_type": "markdown",
      "metadata": {
        "id": "Ze50tY7MJKbr"
      },
      "source": [
        "Comme nous le voyons, le poids et la propulsion son presque proportionnels; il est donc plus difficile d'obtenir des moteurs plus écologiques et moins coûteux qui soient tout de même efficaces en essayant de réduire le poids. Intéressons-nous a la fusée qui, avec le poids le plus petit, aurait une impulsion maximale. "
      ]
    },
    {
      "cell_type": "code",
      "execution_count": 45,
      "metadata": {
        "id": "CNe6Nc5cduSM"
      },
      "outputs": [],
      "source": [
        "rapp_p_i = []\n",
        "\n",
        "#création d'un dictionnaire contenant les rapports des intensités par les poids\n",
        "\n",
        "for i in range(len(fdict)):\n",
        "  rapport = round(str_en_num(fdict[i][\"Total Impulse\"])  / str_en_num(fdict[i][\"Total Weight\"]), 5) #on divise l'impulsion par le poids; plus le rapport sera elevé, plus l'impulsion est grande pour un poids plus petit, et donc plus le moteur sera économique\n",
        "  dico = {\"Common Name\": fdict[i][\"Common Name\"], \"Rapport Impulsion-Poids\": rapport}\n",
        "  rapp_p_i.append(dico)\n"
      ]
    },
    {
      "cell_type": "code",
      "execution_count": 46,
      "metadata": {
        "colab": {
          "base_uri": "https://localhost:8080/"
        },
        "id": "37bIiYELJrWt",
        "outputId": "f92792d9-cc4f-4677-c1fe-3f7c62f56d1c"
      },
      "outputs": [
        {
          "name": "stdout",
          "output_type": "stream",
          "text": [
            "Le moteur le plus écologique et efficace est le moteur M3100, avec un rapport entre son impulsion et son poids de 1.21917.\n",
            "Le moteur le moins écologique et efficace est le moteur J115, avec une différence entre son impulsion et son poids de 0.52551.\n"
          ]
        }
      ],
      "source": [
        "#manipulation des donnés\n",
        "rmax = 0\n",
        "moteurmax = \"\"\n",
        "rmin = rapp_p_i[0][\"Rapport Impulsion-Poids\"]\n",
        "moteurmin = \"\"\n",
        "\n",
        "for dico in rapp_p_i:\n",
        "  rapport = dico[\"Rapport Impulsion-Poids\"]\n",
        "  nom_moteur = dico[\"Common Name\"]\n",
        "  \n",
        "  if rapport > rmax :                     #recherche d'un maximum\n",
        "    rmax = rapport                        #on associe le nouveau maximum a notre variable\n",
        "    moteurmax = nom_moteur                #on retient le nom du moteur avec la difference la plus grande\n",
        "  elif rapport == rmax:\n",
        "    moteurmax +=\", \"+nom_moteur           #s'il y a plusieurs moteurs avec la même différence, alors on retient les deux\n",
        "  \n",
        "  if rapport < rmin : \n",
        "    rmin = rapport\n",
        "    moteurmin = nom_moteur\n",
        "  elif rapport == rmin:         #s'il y a plusieurs moteurs avec la même différence, alors on retient les deux\n",
        "    if dico == rapp_p_i[0]:     #or, comme on a choisi la premiere différence comme exemple, alors inévitablement cette églité sera vraie pour le premier moteur. \n",
        "      moteurmin = nom_moteur    #il nous faut donc nous assurer que pour ce cas particulier, nous ne 'rajoutons' pas un moteur\n",
        "      continue                                                                  \n",
        "    moteurmin +=\" \"+nom_moteur  #ajout potentiel du deuxieme moteur avec la meme valeur du rapport\n",
        "\n",
        "\n",
        "print(f\"Le moteur le plus écologique et efficace est le moteur {moteurmax}, avec un rapport entre son impulsion et son poids de {rmax}.\")\n",
        "print(f\"Le moteur le moins écologique et efficace est le moteur {moteurmin}, avec une différence entre son impulsion et son poids de {rmin}.\")\n"
      ]
    },
    {
      "cell_type": "code",
      "execution_count": 47,
      "metadata": {
        "colab": {
          "base_uri": "https://localhost:8080/"
        },
        "id": "N5cgI3a3jxI3",
        "outputId": "c7e02c90-e442-46c7-b986-2d953ca27eb5"
      },
      "outputs": [
        {
          "name": "stdout",
          "output_type": "stream",
          "text": [
            "{'Manufacturer': 'Cesaroni Technology', 'CAR Designation': '6118M3100-P', 'Common Name': 'M3100', 'Motor Type': 'reload', 'Diameter': '75 mm', 'Length': '757 mm', 'Total Weight': '5,018 g', 'Prop. Weight': '2,903 g', 'Avg. Thrust': '3,075.0 N', 'Initial Thrust': '3,306.8 N', 'Max. Thrust': '3,709.2 N', 'Total Impulse': '6,117.8 Ns', 'Burn Time': '2.0 s', 'Isp': '215 s', 'Motor Case': 'Pro75-5G', 'Propellant': 'White Thunder', 'Cert. Org.': 'CAR', 'Cert. Date': 'October 24, 2009', 'Cert. Designation': '', 'Availability': 'regular', 'HazMat Shipping': 'HazMat', 'CSFM Approved': 'approved'}\n"
          ]
        }
      ],
      "source": [
        "for dico in fdict:\n",
        "  if dico[\"Common Name\"] == \"M3100\":\n",
        "    print(dico)"
      ]
    },
    {
      "cell_type": "markdown",
      "metadata": {
        "id": "A54YUI5kkjcB"
      },
      "source": [
        "Ainsi, nous pouvons retenir trois moteurs:\n",
        "\n",
        "*   Le moteur **J115**; hybride et léger, il est donc le plus écologique et utlise un minimum de ressources naturelles. Or, avec le dernier code, on remarque qu'il est le moins performant; d'ici la difficulté de créer des moteurs moins dangereux pour l'environnement qui aillent le plus loin possible.\n",
        "*   Le moteur **M2505**; le plus lourd, mais comme on a remarqué que plus le moteur est lourd, plus son implusion est grande, il est le moteur le plus efficace de tous.\n",
        "*   Le moteur **M3100**, un entre-deux; même s'il n'est ni hybride ni léger, il a une impulsion maximale pour un poids minimal. Il est donc a la fois efficace et économe. \n"
      ]
    }
  ],
  "metadata": {
    "colab": {
      "collapsed_sections": [],
      "name": "Code_Weight.ipynb",
      "provenance": []
    },
    "kernelspec": {
      "display_name": "Python 3",
      "name": "python3"
    },
    "language_info": {
      "codemirror_mode": {
        "name": "ipython",
        "version": 3
      },
      "file_extension": ".py",
      "mimetype": "text/x-python",
      "name": "python",
      "nbconvert_exporter": "python",
      "pygments_lexer": "ipython3",
      "version": "3.9.12"
    }
  },
  "nbformat": 4,
  "nbformat_minor": 0
}
